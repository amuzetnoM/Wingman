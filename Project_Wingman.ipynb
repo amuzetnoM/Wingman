{
  "nbformat": 4,
  "nbformat_minor": 0,
  "metadata": {
    "colab": {
      "provenance": [],
      "collapsed_sections": [
        "PGipBMkFMTaL",
        "cKJXF05fMaho"
      ],
      "authorship_tag": "ABX9TyNF6HkTT/KWqH6NrAWANhaS",
      "include_colab_link": true
    },
    "kernelspec": {
      "name": "python3",
      "display_name": "Python 3"
    },
    "language_info": {
      "name": "python"
    },
    "widgets": {
      "application/vnd.jupyter.widget-state+json": {
        "475b17471a414336a58b72fd0951b7f7": {
          "model_module": "@jupyter-widgets/controls",
          "model_name": "HBoxModel",
          "model_module_version": "1.5.0",
          "state": {
            "_dom_classes": [],
            "_model_module": "@jupyter-widgets/controls",
            "_model_module_version": "1.5.0",
            "_model_name": "HBoxModel",
            "_view_count": null,
            "_view_module": "@jupyter-widgets/controls",
            "_view_module_version": "1.5.0",
            "_view_name": "HBoxView",
            "box_style": "",
            "children": [
              "IPY_MODEL_5b646cc605084fac8f69b303bca19e66",
              "IPY_MODEL_1a90d3cbda84478c91e2217b7290a6fe",
              "IPY_MODEL_7e53d71602644b839075bdef6fde7372"
            ],
            "layout": "IPY_MODEL_9f44d628aae242fb99e3849552a8d95c"
          }
        },
        "5b646cc605084fac8f69b303bca19e66": {
          "model_module": "@jupyter-widgets/controls",
          "model_name": "HTMLModel",
          "model_module_version": "1.5.0",
          "state": {
            "_dom_classes": [],
            "_model_module": "@jupyter-widgets/controls",
            "_model_module_version": "1.5.0",
            "_model_name": "HTMLModel",
            "_view_count": null,
            "_view_module": "@jupyter-widgets/controls",
            "_view_module_version": "1.5.0",
            "_view_name": "HTMLView",
            "description": "",
            "description_tooltip": null,
            "layout": "IPY_MODEL_6eb9d49249ca4a36b9a80bccb88f7173",
            "placeholder": "​",
            "style": "IPY_MODEL_0a1441e7fbbe47b2ae72cfc47d907c23",
            "value": "Downloading (…)olve/main/vocab.json: 100%"
          }
        },
        "1a90d3cbda84478c91e2217b7290a6fe": {
          "model_module": "@jupyter-widgets/controls",
          "model_name": "FloatProgressModel",
          "model_module_version": "1.5.0",
          "state": {
            "_dom_classes": [],
            "_model_module": "@jupyter-widgets/controls",
            "_model_module_version": "1.5.0",
            "_model_name": "FloatProgressModel",
            "_view_count": null,
            "_view_module": "@jupyter-widgets/controls",
            "_view_module_version": "1.5.0",
            "_view_name": "ProgressView",
            "bar_style": "success",
            "description": "",
            "description_tooltip": null,
            "layout": "IPY_MODEL_307063f3346d42f18a807bad76d7caf3",
            "max": 1042301,
            "min": 0,
            "orientation": "horizontal",
            "style": "IPY_MODEL_366e94fa835b43a1b54c3ddb6f82185e",
            "value": 1042301
          }
        },
        "7e53d71602644b839075bdef6fde7372": {
          "model_module": "@jupyter-widgets/controls",
          "model_name": "HTMLModel",
          "model_module_version": "1.5.0",
          "state": {
            "_dom_classes": [],
            "_model_module": "@jupyter-widgets/controls",
            "_model_module_version": "1.5.0",
            "_model_name": "HTMLModel",
            "_view_count": null,
            "_view_module": "@jupyter-widgets/controls",
            "_view_module_version": "1.5.0",
            "_view_name": "HTMLView",
            "description": "",
            "description_tooltip": null,
            "layout": "IPY_MODEL_0ac49362e8084e4e80473654225383d2",
            "placeholder": "​",
            "style": "IPY_MODEL_358ef1a8a4144909adbb207bd9523e95",
            "value": " 1.04M/1.04M [00:00&lt;00:00, 3.24MB/s]"
          }
        },
        "9f44d628aae242fb99e3849552a8d95c": {
          "model_module": "@jupyter-widgets/base",
          "model_name": "LayoutModel",
          "model_module_version": "1.2.0",
          "state": {
            "_model_module": "@jupyter-widgets/base",
            "_model_module_version": "1.2.0",
            "_model_name": "LayoutModel",
            "_view_count": null,
            "_view_module": "@jupyter-widgets/base",
            "_view_module_version": "1.2.0",
            "_view_name": "LayoutView",
            "align_content": null,
            "align_items": null,
            "align_self": null,
            "border": null,
            "bottom": null,
            "display": null,
            "flex": null,
            "flex_flow": null,
            "grid_area": null,
            "grid_auto_columns": null,
            "grid_auto_flow": null,
            "grid_auto_rows": null,
            "grid_column": null,
            "grid_gap": null,
            "grid_row": null,
            "grid_template_areas": null,
            "grid_template_columns": null,
            "grid_template_rows": null,
            "height": null,
            "justify_content": null,
            "justify_items": null,
            "left": null,
            "margin": null,
            "max_height": null,
            "max_width": null,
            "min_height": null,
            "min_width": null,
            "object_fit": null,
            "object_position": null,
            "order": null,
            "overflow": null,
            "overflow_x": null,
            "overflow_y": null,
            "padding": null,
            "right": null,
            "top": null,
            "visibility": null,
            "width": null
          }
        },
        "6eb9d49249ca4a36b9a80bccb88f7173": {
          "model_module": "@jupyter-widgets/base",
          "model_name": "LayoutModel",
          "model_module_version": "1.2.0",
          "state": {
            "_model_module": "@jupyter-widgets/base",
            "_model_module_version": "1.2.0",
            "_model_name": "LayoutModel",
            "_view_count": null,
            "_view_module": "@jupyter-widgets/base",
            "_view_module_version": "1.2.0",
            "_view_name": "LayoutView",
            "align_content": null,
            "align_items": null,
            "align_self": null,
            "border": null,
            "bottom": null,
            "display": null,
            "flex": null,
            "flex_flow": null,
            "grid_area": null,
            "grid_auto_columns": null,
            "grid_auto_flow": null,
            "grid_auto_rows": null,
            "grid_column": null,
            "grid_gap": null,
            "grid_row": null,
            "grid_template_areas": null,
            "grid_template_columns": null,
            "grid_template_rows": null,
            "height": null,
            "justify_content": null,
            "justify_items": null,
            "left": null,
            "margin": null,
            "max_height": null,
            "max_width": null,
            "min_height": null,
            "min_width": null,
            "object_fit": null,
            "object_position": null,
            "order": null,
            "overflow": null,
            "overflow_x": null,
            "overflow_y": null,
            "padding": null,
            "right": null,
            "top": null,
            "visibility": null,
            "width": null
          }
        },
        "0a1441e7fbbe47b2ae72cfc47d907c23": {
          "model_module": "@jupyter-widgets/controls",
          "model_name": "DescriptionStyleModel",
          "model_module_version": "1.5.0",
          "state": {
            "_model_module": "@jupyter-widgets/controls",
            "_model_module_version": "1.5.0",
            "_model_name": "DescriptionStyleModel",
            "_view_count": null,
            "_view_module": "@jupyter-widgets/base",
            "_view_module_version": "1.2.0",
            "_view_name": "StyleView",
            "description_width": ""
          }
        },
        "307063f3346d42f18a807bad76d7caf3": {
          "model_module": "@jupyter-widgets/base",
          "model_name": "LayoutModel",
          "model_module_version": "1.2.0",
          "state": {
            "_model_module": "@jupyter-widgets/base",
            "_model_module_version": "1.2.0",
            "_model_name": "LayoutModel",
            "_view_count": null,
            "_view_module": "@jupyter-widgets/base",
            "_view_module_version": "1.2.0",
            "_view_name": "LayoutView",
            "align_content": null,
            "align_items": null,
            "align_self": null,
            "border": null,
            "bottom": null,
            "display": null,
            "flex": null,
            "flex_flow": null,
            "grid_area": null,
            "grid_auto_columns": null,
            "grid_auto_flow": null,
            "grid_auto_rows": null,
            "grid_column": null,
            "grid_gap": null,
            "grid_row": null,
            "grid_template_areas": null,
            "grid_template_columns": null,
            "grid_template_rows": null,
            "height": null,
            "justify_content": null,
            "justify_items": null,
            "left": null,
            "margin": null,
            "max_height": null,
            "max_width": null,
            "min_height": null,
            "min_width": null,
            "object_fit": null,
            "object_position": null,
            "order": null,
            "overflow": null,
            "overflow_x": null,
            "overflow_y": null,
            "padding": null,
            "right": null,
            "top": null,
            "visibility": null,
            "width": null
          }
        },
        "366e94fa835b43a1b54c3ddb6f82185e": {
          "model_module": "@jupyter-widgets/controls",
          "model_name": "ProgressStyleModel",
          "model_module_version": "1.5.0",
          "state": {
            "_model_module": "@jupyter-widgets/controls",
            "_model_module_version": "1.5.0",
            "_model_name": "ProgressStyleModel",
            "_view_count": null,
            "_view_module": "@jupyter-widgets/base",
            "_view_module_version": "1.2.0",
            "_view_name": "StyleView",
            "bar_color": null,
            "description_width": ""
          }
        },
        "0ac49362e8084e4e80473654225383d2": {
          "model_module": "@jupyter-widgets/base",
          "model_name": "LayoutModel",
          "model_module_version": "1.2.0",
          "state": {
            "_model_module": "@jupyter-widgets/base",
            "_model_module_version": "1.2.0",
            "_model_name": "LayoutModel",
            "_view_count": null,
            "_view_module": "@jupyter-widgets/base",
            "_view_module_version": "1.2.0",
            "_view_name": "LayoutView",
            "align_content": null,
            "align_items": null,
            "align_self": null,
            "border": null,
            "bottom": null,
            "display": null,
            "flex": null,
            "flex_flow": null,
            "grid_area": null,
            "grid_auto_columns": null,
            "grid_auto_flow": null,
            "grid_auto_rows": null,
            "grid_column": null,
            "grid_gap": null,
            "grid_row": null,
            "grid_template_areas": null,
            "grid_template_columns": null,
            "grid_template_rows": null,
            "height": null,
            "justify_content": null,
            "justify_items": null,
            "left": null,
            "margin": null,
            "max_height": null,
            "max_width": null,
            "min_height": null,
            "min_width": null,
            "object_fit": null,
            "object_position": null,
            "order": null,
            "overflow": null,
            "overflow_x": null,
            "overflow_y": null,
            "padding": null,
            "right": null,
            "top": null,
            "visibility": null,
            "width": null
          }
        },
        "358ef1a8a4144909adbb207bd9523e95": {
          "model_module": "@jupyter-widgets/controls",
          "model_name": "DescriptionStyleModel",
          "model_module_version": "1.5.0",
          "state": {
            "_model_module": "@jupyter-widgets/controls",
            "_model_module_version": "1.5.0",
            "_model_name": "DescriptionStyleModel",
            "_view_count": null,
            "_view_module": "@jupyter-widgets/base",
            "_view_module_version": "1.2.0",
            "_view_name": "StyleView",
            "description_width": ""
          }
        },
        "da1b875824254282b232b6d5b3ea303c": {
          "model_module": "@jupyter-widgets/controls",
          "model_name": "HBoxModel",
          "model_module_version": "1.5.0",
          "state": {
            "_dom_classes": [],
            "_model_module": "@jupyter-widgets/controls",
            "_model_module_version": "1.5.0",
            "_model_name": "HBoxModel",
            "_view_count": null,
            "_view_module": "@jupyter-widgets/controls",
            "_view_module_version": "1.5.0",
            "_view_name": "HBoxView",
            "box_style": "",
            "children": [
              "IPY_MODEL_73d43397e7194873a0bae8a104ac609f",
              "IPY_MODEL_8b795f82cc104ffaa88b56212c3d55c7",
              "IPY_MODEL_f949a60ccee241b1a670ffe62cb49d98"
            ],
            "layout": "IPY_MODEL_7e63dfb4082a46a9be536d93dd9dd770"
          }
        },
        "73d43397e7194873a0bae8a104ac609f": {
          "model_module": "@jupyter-widgets/controls",
          "model_name": "HTMLModel",
          "model_module_version": "1.5.0",
          "state": {
            "_dom_classes": [],
            "_model_module": "@jupyter-widgets/controls",
            "_model_module_version": "1.5.0",
            "_model_name": "HTMLModel",
            "_view_count": null,
            "_view_module": "@jupyter-widgets/controls",
            "_view_module_version": "1.5.0",
            "_view_name": "HTMLView",
            "description": "",
            "description_tooltip": null,
            "layout": "IPY_MODEL_d7a38329a31442778a54ecf57dcd45df",
            "placeholder": "​",
            "style": "IPY_MODEL_a403474ecbda46f3b6c93c1e0e7c3792",
            "value": "Downloading (…)olve/main/merges.txt: 100%"
          }
        },
        "8b795f82cc104ffaa88b56212c3d55c7": {
          "model_module": "@jupyter-widgets/controls",
          "model_name": "FloatProgressModel",
          "model_module_version": "1.5.0",
          "state": {
            "_dom_classes": [],
            "_model_module": "@jupyter-widgets/controls",
            "_model_module_version": "1.5.0",
            "_model_name": "FloatProgressModel",
            "_view_count": null,
            "_view_module": "@jupyter-widgets/controls",
            "_view_module_version": "1.5.0",
            "_view_name": "ProgressView",
            "bar_style": "success",
            "description": "",
            "description_tooltip": null,
            "layout": "IPY_MODEL_82683c1638854bbb9e5fd4bd33ddb208",
            "max": 456318,
            "min": 0,
            "orientation": "horizontal",
            "style": "IPY_MODEL_81ac20c4e9224546be89c839a83d316a",
            "value": 456318
          }
        },
        "f949a60ccee241b1a670ffe62cb49d98": {
          "model_module": "@jupyter-widgets/controls",
          "model_name": "HTMLModel",
          "model_module_version": "1.5.0",
          "state": {
            "_dom_classes": [],
            "_model_module": "@jupyter-widgets/controls",
            "_model_module_version": "1.5.0",
            "_model_name": "HTMLModel",
            "_view_count": null,
            "_view_module": "@jupyter-widgets/controls",
            "_view_module_version": "1.5.0",
            "_view_name": "HTMLView",
            "description": "",
            "description_tooltip": null,
            "layout": "IPY_MODEL_753d481316da408ea4b01e89a0f01f72",
            "placeholder": "​",
            "style": "IPY_MODEL_947f51283cd5457195d9af6f7b4ba5d9",
            "value": " 456k/456k [00:00&lt;00:00, 1.88MB/s]"
          }
        },
        "7e63dfb4082a46a9be536d93dd9dd770": {
          "model_module": "@jupyter-widgets/base",
          "model_name": "LayoutModel",
          "model_module_version": "1.2.0",
          "state": {
            "_model_module": "@jupyter-widgets/base",
            "_model_module_version": "1.2.0",
            "_model_name": "LayoutModel",
            "_view_count": null,
            "_view_module": "@jupyter-widgets/base",
            "_view_module_version": "1.2.0",
            "_view_name": "LayoutView",
            "align_content": null,
            "align_items": null,
            "align_self": null,
            "border": null,
            "bottom": null,
            "display": null,
            "flex": null,
            "flex_flow": null,
            "grid_area": null,
            "grid_auto_columns": null,
            "grid_auto_flow": null,
            "grid_auto_rows": null,
            "grid_column": null,
            "grid_gap": null,
            "grid_row": null,
            "grid_template_areas": null,
            "grid_template_columns": null,
            "grid_template_rows": null,
            "height": null,
            "justify_content": null,
            "justify_items": null,
            "left": null,
            "margin": null,
            "max_height": null,
            "max_width": null,
            "min_height": null,
            "min_width": null,
            "object_fit": null,
            "object_position": null,
            "order": null,
            "overflow": null,
            "overflow_x": null,
            "overflow_y": null,
            "padding": null,
            "right": null,
            "top": null,
            "visibility": null,
            "width": null
          }
        },
        "d7a38329a31442778a54ecf57dcd45df": {
          "model_module": "@jupyter-widgets/base",
          "model_name": "LayoutModel",
          "model_module_version": "1.2.0",
          "state": {
            "_model_module": "@jupyter-widgets/base",
            "_model_module_version": "1.2.0",
            "_model_name": "LayoutModel",
            "_view_count": null,
            "_view_module": "@jupyter-widgets/base",
            "_view_module_version": "1.2.0",
            "_view_name": "LayoutView",
            "align_content": null,
            "align_items": null,
            "align_self": null,
            "border": null,
            "bottom": null,
            "display": null,
            "flex": null,
            "flex_flow": null,
            "grid_area": null,
            "grid_auto_columns": null,
            "grid_auto_flow": null,
            "grid_auto_rows": null,
            "grid_column": null,
            "grid_gap": null,
            "grid_row": null,
            "grid_template_areas": null,
            "grid_template_columns": null,
            "grid_template_rows": null,
            "height": null,
            "justify_content": null,
            "justify_items": null,
            "left": null,
            "margin": null,
            "max_height": null,
            "max_width": null,
            "min_height": null,
            "min_width": null,
            "object_fit": null,
            "object_position": null,
            "order": null,
            "overflow": null,
            "overflow_x": null,
            "overflow_y": null,
            "padding": null,
            "right": null,
            "top": null,
            "visibility": null,
            "width": null
          }
        },
        "a403474ecbda46f3b6c93c1e0e7c3792": {
          "model_module": "@jupyter-widgets/controls",
          "model_name": "DescriptionStyleModel",
          "model_module_version": "1.5.0",
          "state": {
            "_model_module": "@jupyter-widgets/controls",
            "_model_module_version": "1.5.0",
            "_model_name": "DescriptionStyleModel",
            "_view_count": null,
            "_view_module": "@jupyter-widgets/base",
            "_view_module_version": "1.2.0",
            "_view_name": "StyleView",
            "description_width": ""
          }
        },
        "82683c1638854bbb9e5fd4bd33ddb208": {
          "model_module": "@jupyter-widgets/base",
          "model_name": "LayoutModel",
          "model_module_version": "1.2.0",
          "state": {
            "_model_module": "@jupyter-widgets/base",
            "_model_module_version": "1.2.0",
            "_model_name": "LayoutModel",
            "_view_count": null,
            "_view_module": "@jupyter-widgets/base",
            "_view_module_version": "1.2.0",
            "_view_name": "LayoutView",
            "align_content": null,
            "align_items": null,
            "align_self": null,
            "border": null,
            "bottom": null,
            "display": null,
            "flex": null,
            "flex_flow": null,
            "grid_area": null,
            "grid_auto_columns": null,
            "grid_auto_flow": null,
            "grid_auto_rows": null,
            "grid_column": null,
            "grid_gap": null,
            "grid_row": null,
            "grid_template_areas": null,
            "grid_template_columns": null,
            "grid_template_rows": null,
            "height": null,
            "justify_content": null,
            "justify_items": null,
            "left": null,
            "margin": null,
            "max_height": null,
            "max_width": null,
            "min_height": null,
            "min_width": null,
            "object_fit": null,
            "object_position": null,
            "order": null,
            "overflow": null,
            "overflow_x": null,
            "overflow_y": null,
            "padding": null,
            "right": null,
            "top": null,
            "visibility": null,
            "width": null
          }
        },
        "81ac20c4e9224546be89c839a83d316a": {
          "model_module": "@jupyter-widgets/controls",
          "model_name": "ProgressStyleModel",
          "model_module_version": "1.5.0",
          "state": {
            "_model_module": "@jupyter-widgets/controls",
            "_model_module_version": "1.5.0",
            "_model_name": "ProgressStyleModel",
            "_view_count": null,
            "_view_module": "@jupyter-widgets/base",
            "_view_module_version": "1.2.0",
            "_view_name": "StyleView",
            "bar_color": null,
            "description_width": ""
          }
        },
        "753d481316da408ea4b01e89a0f01f72": {
          "model_module": "@jupyter-widgets/base",
          "model_name": "LayoutModel",
          "model_module_version": "1.2.0",
          "state": {
            "_model_module": "@jupyter-widgets/base",
            "_model_module_version": "1.2.0",
            "_model_name": "LayoutModel",
            "_view_count": null,
            "_view_module": "@jupyter-widgets/base",
            "_view_module_version": "1.2.0",
            "_view_name": "LayoutView",
            "align_content": null,
            "align_items": null,
            "align_self": null,
            "border": null,
            "bottom": null,
            "display": null,
            "flex": null,
            "flex_flow": null,
            "grid_area": null,
            "grid_auto_columns": null,
            "grid_auto_flow": null,
            "grid_auto_rows": null,
            "grid_column": null,
            "grid_gap": null,
            "grid_row": null,
            "grid_template_areas": null,
            "grid_template_columns": null,
            "grid_template_rows": null,
            "height": null,
            "justify_content": null,
            "justify_items": null,
            "left": null,
            "margin": null,
            "max_height": null,
            "max_width": null,
            "min_height": null,
            "min_width": null,
            "object_fit": null,
            "object_position": null,
            "order": null,
            "overflow": null,
            "overflow_x": null,
            "overflow_y": null,
            "padding": null,
            "right": null,
            "top": null,
            "visibility": null,
            "width": null
          }
        },
        "947f51283cd5457195d9af6f7b4ba5d9": {
          "model_module": "@jupyter-widgets/controls",
          "model_name": "DescriptionStyleModel",
          "model_module_version": "1.5.0",
          "state": {
            "_model_module": "@jupyter-widgets/controls",
            "_model_module_version": "1.5.0",
            "_model_name": "DescriptionStyleModel",
            "_view_count": null,
            "_view_module": "@jupyter-widgets/base",
            "_view_module_version": "1.2.0",
            "_view_name": "StyleView",
            "description_width": ""
          }
        },
        "5c7ecff4367846fabfaec1bcd0080634": {
          "model_module": "@jupyter-widgets/controls",
          "model_name": "HBoxModel",
          "model_module_version": "1.5.0",
          "state": {
            "_dom_classes": [],
            "_model_module": "@jupyter-widgets/controls",
            "_model_module_version": "1.5.0",
            "_model_name": "HBoxModel",
            "_view_count": null,
            "_view_module": "@jupyter-widgets/controls",
            "_view_module_version": "1.5.0",
            "_view_name": "HBoxView",
            "box_style": "",
            "children": [
              "IPY_MODEL_b93abd448e8341349ab7c8573ea02031",
              "IPY_MODEL_964152cfc4fa41f89af74a07a7bbe95e",
              "IPY_MODEL_f6822fba24db42dcb1b0f07dd5572783"
            ],
            "layout": "IPY_MODEL_9ad5fc5cb2714d80b5b9e503425e9c1c"
          }
        },
        "b93abd448e8341349ab7c8573ea02031": {
          "model_module": "@jupyter-widgets/controls",
          "model_name": "HTMLModel",
          "model_module_version": "1.5.0",
          "state": {
            "_dom_classes": [],
            "_model_module": "@jupyter-widgets/controls",
            "_model_module_version": "1.5.0",
            "_model_name": "HTMLModel",
            "_view_count": null,
            "_view_module": "@jupyter-widgets/controls",
            "_view_module_version": "1.5.0",
            "_view_name": "HTMLView",
            "description": "",
            "description_tooltip": null,
            "layout": "IPY_MODEL_1c1ecb79cfb34945a8a76ff02ab66208",
            "placeholder": "​",
            "style": "IPY_MODEL_e4351ba9c3fb4b50be882b71a5d6c5ba",
            "value": "Downloading (…)lve/main/config.json: 100%"
          }
        },
        "964152cfc4fa41f89af74a07a7bbe95e": {
          "model_module": "@jupyter-widgets/controls",
          "model_name": "FloatProgressModel",
          "model_module_version": "1.5.0",
          "state": {
            "_dom_classes": [],
            "_model_module": "@jupyter-widgets/controls",
            "_model_module_version": "1.5.0",
            "_model_name": "FloatProgressModel",
            "_view_count": null,
            "_view_module": "@jupyter-widgets/controls",
            "_view_module_version": "1.5.0",
            "_view_name": "ProgressView",
            "bar_style": "success",
            "description": "",
            "description_tooltip": null,
            "layout": "IPY_MODEL_4d71480fcc2747fba0131a42f74159d4",
            "max": 665,
            "min": 0,
            "orientation": "horizontal",
            "style": "IPY_MODEL_918fdc75136a4ab1927221efd3a64d65",
            "value": 665
          }
        },
        "f6822fba24db42dcb1b0f07dd5572783": {
          "model_module": "@jupyter-widgets/controls",
          "model_name": "HTMLModel",
          "model_module_version": "1.5.0",
          "state": {
            "_dom_classes": [],
            "_model_module": "@jupyter-widgets/controls",
            "_model_module_version": "1.5.0",
            "_model_name": "HTMLModel",
            "_view_count": null,
            "_view_module": "@jupyter-widgets/controls",
            "_view_module_version": "1.5.0",
            "_view_name": "HTMLView",
            "description": "",
            "description_tooltip": null,
            "layout": "IPY_MODEL_219c3280ef5548ec86220ee7c96e5077",
            "placeholder": "​",
            "style": "IPY_MODEL_812459f8f4bd421a8254ef9f4cd1900c",
            "value": " 665/665 [00:00&lt;00:00, 32.6kB/s]"
          }
        },
        "9ad5fc5cb2714d80b5b9e503425e9c1c": {
          "model_module": "@jupyter-widgets/base",
          "model_name": "LayoutModel",
          "model_module_version": "1.2.0",
          "state": {
            "_model_module": "@jupyter-widgets/base",
            "_model_module_version": "1.2.0",
            "_model_name": "LayoutModel",
            "_view_count": null,
            "_view_module": "@jupyter-widgets/base",
            "_view_module_version": "1.2.0",
            "_view_name": "LayoutView",
            "align_content": null,
            "align_items": null,
            "align_self": null,
            "border": null,
            "bottom": null,
            "display": null,
            "flex": null,
            "flex_flow": null,
            "grid_area": null,
            "grid_auto_columns": null,
            "grid_auto_flow": null,
            "grid_auto_rows": null,
            "grid_column": null,
            "grid_gap": null,
            "grid_row": null,
            "grid_template_areas": null,
            "grid_template_columns": null,
            "grid_template_rows": null,
            "height": null,
            "justify_content": null,
            "justify_items": null,
            "left": null,
            "margin": null,
            "max_height": null,
            "max_width": null,
            "min_height": null,
            "min_width": null,
            "object_fit": null,
            "object_position": null,
            "order": null,
            "overflow": null,
            "overflow_x": null,
            "overflow_y": null,
            "padding": null,
            "right": null,
            "top": null,
            "visibility": null,
            "width": null
          }
        },
        "1c1ecb79cfb34945a8a76ff02ab66208": {
          "model_module": "@jupyter-widgets/base",
          "model_name": "LayoutModel",
          "model_module_version": "1.2.0",
          "state": {
            "_model_module": "@jupyter-widgets/base",
            "_model_module_version": "1.2.0",
            "_model_name": "LayoutModel",
            "_view_count": null,
            "_view_module": "@jupyter-widgets/base",
            "_view_module_version": "1.2.0",
            "_view_name": "LayoutView",
            "align_content": null,
            "align_items": null,
            "align_self": null,
            "border": null,
            "bottom": null,
            "display": null,
            "flex": null,
            "flex_flow": null,
            "grid_area": null,
            "grid_auto_columns": null,
            "grid_auto_flow": null,
            "grid_auto_rows": null,
            "grid_column": null,
            "grid_gap": null,
            "grid_row": null,
            "grid_template_areas": null,
            "grid_template_columns": null,
            "grid_template_rows": null,
            "height": null,
            "justify_content": null,
            "justify_items": null,
            "left": null,
            "margin": null,
            "max_height": null,
            "max_width": null,
            "min_height": null,
            "min_width": null,
            "object_fit": null,
            "object_position": null,
            "order": null,
            "overflow": null,
            "overflow_x": null,
            "overflow_y": null,
            "padding": null,
            "right": null,
            "top": null,
            "visibility": null,
            "width": null
          }
        },
        "e4351ba9c3fb4b50be882b71a5d6c5ba": {
          "model_module": "@jupyter-widgets/controls",
          "model_name": "DescriptionStyleModel",
          "model_module_version": "1.5.0",
          "state": {
            "_model_module": "@jupyter-widgets/controls",
            "_model_module_version": "1.5.0",
            "_model_name": "DescriptionStyleModel",
            "_view_count": null,
            "_view_module": "@jupyter-widgets/base",
            "_view_module_version": "1.2.0",
            "_view_name": "StyleView",
            "description_width": ""
          }
        },
        "4d71480fcc2747fba0131a42f74159d4": {
          "model_module": "@jupyter-widgets/base",
          "model_name": "LayoutModel",
          "model_module_version": "1.2.0",
          "state": {
            "_model_module": "@jupyter-widgets/base",
            "_model_module_version": "1.2.0",
            "_model_name": "LayoutModel",
            "_view_count": null,
            "_view_module": "@jupyter-widgets/base",
            "_view_module_version": "1.2.0",
            "_view_name": "LayoutView",
            "align_content": null,
            "align_items": null,
            "align_self": null,
            "border": null,
            "bottom": null,
            "display": null,
            "flex": null,
            "flex_flow": null,
            "grid_area": null,
            "grid_auto_columns": null,
            "grid_auto_flow": null,
            "grid_auto_rows": null,
            "grid_column": null,
            "grid_gap": null,
            "grid_row": null,
            "grid_template_areas": null,
            "grid_template_columns": null,
            "grid_template_rows": null,
            "height": null,
            "justify_content": null,
            "justify_items": null,
            "left": null,
            "margin": null,
            "max_height": null,
            "max_width": null,
            "min_height": null,
            "min_width": null,
            "object_fit": null,
            "object_position": null,
            "order": null,
            "overflow": null,
            "overflow_x": null,
            "overflow_y": null,
            "padding": null,
            "right": null,
            "top": null,
            "visibility": null,
            "width": null
          }
        },
        "918fdc75136a4ab1927221efd3a64d65": {
          "model_module": "@jupyter-widgets/controls",
          "model_name": "ProgressStyleModel",
          "model_module_version": "1.5.0",
          "state": {
            "_model_module": "@jupyter-widgets/controls",
            "_model_module_version": "1.5.0",
            "_model_name": "ProgressStyleModel",
            "_view_count": null,
            "_view_module": "@jupyter-widgets/base",
            "_view_module_version": "1.2.0",
            "_view_name": "StyleView",
            "bar_color": null,
            "description_width": ""
          }
        },
        "219c3280ef5548ec86220ee7c96e5077": {
          "model_module": "@jupyter-widgets/base",
          "model_name": "LayoutModel",
          "model_module_version": "1.2.0",
          "state": {
            "_model_module": "@jupyter-widgets/base",
            "_model_module_version": "1.2.0",
            "_model_name": "LayoutModel",
            "_view_count": null,
            "_view_module": "@jupyter-widgets/base",
            "_view_module_version": "1.2.0",
            "_view_name": "LayoutView",
            "align_content": null,
            "align_items": null,
            "align_self": null,
            "border": null,
            "bottom": null,
            "display": null,
            "flex": null,
            "flex_flow": null,
            "grid_area": null,
            "grid_auto_columns": null,
            "grid_auto_flow": null,
            "grid_auto_rows": null,
            "grid_column": null,
            "grid_gap": null,
            "grid_row": null,
            "grid_template_areas": null,
            "grid_template_columns": null,
            "grid_template_rows": null,
            "height": null,
            "justify_content": null,
            "justify_items": null,
            "left": null,
            "margin": null,
            "max_height": null,
            "max_width": null,
            "min_height": null,
            "min_width": null,
            "object_fit": null,
            "object_position": null,
            "order": null,
            "overflow": null,
            "overflow_x": null,
            "overflow_y": null,
            "padding": null,
            "right": null,
            "top": null,
            "visibility": null,
            "width": null
          }
        },
        "812459f8f4bd421a8254ef9f4cd1900c": {
          "model_module": "@jupyter-widgets/controls",
          "model_name": "DescriptionStyleModel",
          "model_module_version": "1.5.0",
          "state": {
            "_model_module": "@jupyter-widgets/controls",
            "_model_module_version": "1.5.0",
            "_model_name": "DescriptionStyleModel",
            "_view_count": null,
            "_view_module": "@jupyter-widgets/base",
            "_view_module_version": "1.2.0",
            "_view_name": "StyleView",
            "description_width": ""
          }
        }
      }
    }
  },
  "cells": [
    {
      "cell_type": "markdown",
      "metadata": {
        "id": "view-in-github",
        "colab_type": "text"
      },
      "source": [
        "<a href=\"https://colab.research.google.com/github/amuzetnoM/Wingman/blob/main/Project_Wingman.ipynb\" target=\"_parent\"><img src=\"https://colab.research.google.com/assets/colab-badge.svg\" alt=\"Open In Colab\"/></a>"
      ]
    },
    {
      "cell_type": "markdown",
      "source": [
        "## DEPENDENCIES"
      ],
      "metadata": {
        "id": "PGipBMkFMTaL"
      }
    },
    {
      "cell_type": "code",
      "source": [
        "# Install dependencies\n",
        "!pip install transformers\n",
        "!pip install torch\n",
        "!pip install torchvision\n",
        "!pip install pypdf2\n",
        "!pip install pdfplumber\n",
        "!pip install -U --force-reinstall pillow\n",
        "!pip install beautifulsoup4\n",
        "!pip install textwrap\n",
        "!pip install mosaicml\n",
        "!pip install einops\n",
        "!pip install --upgrade transformers"
      ],
      "metadata": {
        "id": "_6sflc6ZGTq3"
      },
      "execution_count": null,
      "outputs": []
    },
    {
      "cell_type": "markdown",
      "source": [
        "# Upload Data and Mention Websites\n"
      ],
      "metadata": {
        "id": "cKJXF05fMaho"
      }
    },
    {
      "cell_type": "code",
      "execution_count": 2,
      "metadata": {
        "id": "qqSmMvpwCb47",
        "colab": {
          "base_uri": "https://localhost:8080/"
        },
        "outputId": "5e3d8634-ff18-4c64-f856-ecbd27b1faea"
      },
      "outputs": [
        {
          "output_type": "stream",
          "name": "stdout",
          "text": [
            "Directories 'context_data' and 'raw_data' created successfully.\n",
            "Please upload the necessary data files to the 'raw_data' directory.\n",
            "Enter a website URL (leave blank to skip): https://www.clinicalanatomy.ca/\n",
            "Enter a website URL (leave blank to skip): \n",
            "Websites entered:\n",
            "https://www.clinicalanatomy.ca/\n"
          ]
        }
      ],
      "source": [
        "import os\n",
        "import shutil\n",
        "import urllib.request\n",
        "from huggingface_hub import hf_hub_url\n",
        "\n",
        "\n",
        "\n",
        "# Import required modules\n",
        "from transformers import GPTJForCausalLM, GPT2Tokenizer\n",
        "from PIL import Image\n",
        "from IPython.display import display\n",
        "\n",
        "# Set up directories\n",
        "os.makedirs(\"context_data\", exist_ok=True)\n",
        "os.makedirs(\"raw_data\", exist_ok=True)\n",
        "\n",
        "# Display successful directory creation\n",
        "print(\"Directories 'context_data' and 'raw_data' created successfully.\")\n",
        "\n",
        "# Request user to upload data\n",
        "print(\"Please upload the necessary data files to the 'raw_data' directory.\")\n",
        "\n",
        "# Ask user to input up to 5 websites\n",
        "websites = []\n",
        "for i in range(5):\n",
        "    website = input(\"Enter a website URL (leave blank to skip): \")\n",
        "    if website:\n",
        "        websites.append(website)\n",
        "    else:\n",
        "        break\n",
        "\n",
        "# Display the list of websites\n",
        "print(\"Websites entered:\")\n",
        "for website in websites:\n",
        "    print(website)"
      ]
    },
    {
      "cell_type": "markdown",
      "source": [
        "# PreProcessing & Training"
      ],
      "metadata": {
        "id": "rgyt6PkjQ1Z4"
      }
    },
    {
      "cell_type": "code",
      "source": [
        "from bs4 import BeautifulSoup\n",
        "\n",
        "# Scrape data from the websites\n",
        "scraped_data = []\n",
        "\n",
        "for website in websites:\n",
        "    try:\n",
        "        # Open the URL\n",
        "        with urllib.request.urlopen(website) as response:\n",
        "            html = response.read()\n",
        "\n",
        "        # Parse the HTML content using BeautifulSoup\n",
        "        soup = BeautifulSoup(html, 'html.parser')\n",
        "\n",
        "        # Extract the text content from the HTML\n",
        "        text = soup.get_text()\n",
        "\n",
        "        # Append the scraped text to the list\n",
        "        scraped_data.append(text)\n",
        "\n",
        "    except Exception as e:\n",
        "        print(f\"Error scraping data from {website}: {str(e)}\")\n",
        "\n",
        "# Display the scraped data\n",
        "print(\"Scraped data:\")\n",
        "for data in scraped_data:\n",
        "    print(data[:500])  # Display the first 100 characters of each scraped data\n",
        "\n",
        "    # Save scraped data to text files\n",
        "for i, data in enumerate(scraped_data):\n",
        "    filename = f\"website_{i}.txt\"\n",
        "    filepath = os.path.join(\"context_data\", filename)\n",
        "    with open(filepath, \"w\") as file:\n",
        "        file.write(data)\n",
        "    print(f\"Scraped data saved to {filepath}\")\n",
        "\n",
        "\n"
      ],
      "metadata": {
        "id": "fGY_Gqw-HQvN",
        "colab": {
          "base_uri": "https://localhost:8080/"
        },
        "outputId": "607b370a-731d-4208-bcef-162caed879e6"
      },
      "execution_count": 3,
      "outputs": [
        {
          "output_type": "stream",
          "name": "stdout",
          "text": [
            "Scraped data:\n",
            "\n",
            "\n",
            "\n",
            "\n",
            "\n",
            "\n",
            "Clinical Anatomy | Home\n",
            "\n",
            "\n",
            "\n",
            "\n",
            "\n",
            "\n",
            "\n",
            "\n",
            "\n",
            "\n",
            "\n",
            "\n",
            "\n",
            "\n",
            "\n",
            "\n",
            "\n",
            "CLINICAL ANATOMY\n",
            "\n",
            "\n",
            "VISIT OUR LATEST SECTION WITH NEW MODULES: Clinical Approaches\n",
            "\n",
            "\n",
            "\n",
            "\n",
            "\n",
            "\n",
            "\n",
            "\n",
            "\n",
            "\n",
            "\n",
            "\n",
            "\n",
            "Head & Neck\n",
            "\n",
            "\n",
            "\n",
            "\n",
            "\n",
            "Thorax\n",
            "\n",
            "\n",
            "\n",
            "\n",
            "\n",
            "Upper Limb\n",
            "\n",
            "\n",
            "\n",
            "\n",
            "\n",
            "Pelvis\n",
            "\n",
            "\n",
            "\n",
            "\n",
            "\n",
            "\n",
            "\n",
            "Anatomy Videos\n",
            "\n",
            "\n",
            "\n",
            "\n",
            "\n",
            "Clinical Approaches\n",
            "\n",
            "\n",
            "\n",
            "\n",
            "\n",
            "Anatomical Illustrations\n",
            "\n",
            "\n",
            "\n",
            "\n",
            "\n",
            "UBC Anatomy Labs\n",
            "\n",
            "\n",
            "\n",
            "\n",
            "\n",
            "\n",
            "\n",
            "Back & Core\n",
            "\n",
            "\n",
            "\n",
            "\n",
            "\n",
            "Abdomen\n",
            "\n",
            "\n",
            "\n",
            "\n",
            "\n",
            "Lower Limb\n",
            "\n",
            "\n",
            "\n",
            "\n",
            "\n",
            "Embryology\n",
            "\n",
            "\n",
            "\n",
            " \n",
            "\n",
            "\n",
            "\n",
            "ABOUT US\n",
            "\n",
            "This work is licensed under a Creative Commons Attribution-NonCommercial-ShareAlike 4.0 International License\n",
            "\n",
            "NEUROANATOMY\n",
            "\n",
            "\n",
            "Scraped data saved to context_data/website_0.txt\n"
          ]
        }
      ]
    },
    {
      "cell_type": "code",
      "source": [
        "import os\n",
        "import shutil\n",
        "\n",
        "# Set the source and destination directories\n",
        "source_dir = \"/content\"\n",
        "destination_dir = \"/content/raw_data\"\n",
        "\n",
        "# Get the list of files in the source directory\n",
        "file_list = os.listdir(source_dir)\n",
        "\n",
        "# Iterate over the files and move the PDF files to the destination directory\n",
        "for file_name in file_list:\n",
        "    if file_name.endswith(\".pdf\"):\n",
        "        source_path = os.path.join(source_dir, file_name)\n",
        "        destination_path = os.path.join(destination_dir, file_name)\n",
        "        shutil.move(source_path, destination_path)\n",
        "        print(f\"Moved {file_name} to {destination_dir}\")\n"
      ],
      "metadata": {
        "colab": {
          "base_uri": "https://localhost:8080/"
        },
        "id": "rPW7v4c_Dd9x",
        "outputId": "87e12065-e4bc-4998-c77d-f081f47a118e"
      },
      "execution_count": 4,
      "outputs": [
        {
          "output_type": "stream",
          "name": "stdout",
          "text": [
            "Moved snell clinical anatomy by regions 9th ed 2012.pdf to /content/raw_data\n"
          ]
        }
      ]
    },
    {
      "cell_type": "code",
      "source": [
        "# List all files in the raw_data folder\n",
        "raw_data_folder = \"raw_data\"\n",
        "files = os.listdir(raw_data_folder)\n",
        "\n",
        "# Display files with their extensions\n",
        "print(\"Files in the 'raw_data' folder:\")\n",
        "for file in files:\n",
        "    filename, extension = os.path.splitext(file)\n",
        "    print(f\"{file} ({extension})\")\n"
      ],
      "metadata": {
        "colab": {
          "base_uri": "https://localhost:8080/"
        },
        "id": "fJFVjNnlKRZ1",
        "outputId": "b75983af-4d5c-4b00-d422-d61ead297f83"
      },
      "execution_count": 5,
      "outputs": [
        {
          "output_type": "stream",
          "name": "stdout",
          "text": [
            "Files in the 'raw_data' folder:\n",
            "snell clinical anatomy by regions 9th ed 2012.pdf (.pdf)\n"
          ]
        }
      ]
    },
    {
      "cell_type": "code",
      "source": [
        "# List only PDF files in the raw_data folder\n",
        "raw_data_folder = \"raw_data\"\n",
        "pdf_files = [file for file in os.listdir(raw_data_folder) if file.endswith(\".pdf\")]\n",
        "\n",
        "# Display PDF files\n",
        "print(\"PDF files in the 'raw_data' folder:\")\n",
        "for file in pdf_files:\n",
        "    print(file)\n"
      ],
      "metadata": {
        "colab": {
          "base_uri": "https://localhost:8080/"
        },
        "id": "fcsTIHD2LFLF",
        "outputId": "f44db1e5-59d7-4e91-d5ff-3e91e64fb91a"
      },
      "execution_count": 6,
      "outputs": [
        {
          "output_type": "stream",
          "name": "stdout",
          "text": [
            "PDF files in the 'raw_data' folder:\n",
            "snell clinical anatomy by regions 9th ed 2012.pdf\n"
          ]
        }
      ]
    },
    {
      "cell_type": "code",
      "source": [
        "import pdfplumber\n",
        "import textwrap\n",
        "\n",
        "# List only PDF files in the raw_data folder\n",
        "raw_data_folder = \"raw_data\"\n",
        "pdf_files = [file for file in os.listdir(raw_data_folder) if file.endswith(\".pdf\")]\n",
        "\n",
        "# Convert each PDF file to text\n",
        "converted_text = \"\"\n",
        "for pdf_file in pdf_files:\n",
        "    pdf_path = os.path.join(raw_data_folder, pdf_file)\n",
        "    with pdfplumber.open(pdf_path) as pdf:\n",
        "        for page in pdf.pages:\n",
        "            text = page.extract_text()\n",
        "            converted_text += text\n",
        "\n",
        "# Save the converted text to a single file\n",
        "output_file = os.path.join(\"context_data\", \"converted.txt\")\n",
        "with open(output_file, \"w\") as file:\n",
        "    file.write(converted_text)\n",
        "\n",
        "# Display the first 500 words with text wrapping\n",
        "words = converted_text.split()\n",
        "wrapped_text = \" \".join(words[:500])\n",
        "wrapped_text = textwrap.fill(wrapped_text, width=80)  # Adjust the width as needed\n",
        "print(\"First 500 words (with text wrapping):\")\n",
        "print(wrapped_text)\n"
      ],
      "metadata": {
        "id": "MLUY_9U5LXot",
        "colab": {
          "base_uri": "https://localhost:8080/"
        },
        "outputId": "f2bdba91-d82f-4d94-ce70-4ab9a4da4470"
      },
      "execution_count": 7,
      "outputs": [
        {
          "output_type": "stream",
          "name": "stdout",
          "text": [
            "First 500 words (with text wrapping):\n",
            "CLINICAL ANATOMY BY REGIONS N I N T H E D I T I O NC L I N I C AL A N A T O MY\n",
            "BY R E G I O NS Richard ร. Snell, M.R.C.S., L.R.C.P., M.B., B.S., M.D., Ph.D.\n",
            "Emeritus Professor of Anatomy (formerly Chairman of the Department of Anatomy)\n",
            "George Washington University School of Medicine and Health Sciences Washington,\n",
            "District of Columbia Previously Associate Professor of Anatomy and Medicine,\n",
            "Yale University Medical School Lecturer in Anatomy, King's College, University\n",
            "of London Visiting Professor of Anatomy, Harvard Medical SchoolAcquisitions\n",
            "Editor: Crystal Taylor Product Manager: Julie Montalbano Marketing Manager: Joy\n",
            "Fisher Williams Designer: Steve Druding Compositor: SPi Global 9th Edition\n",
            "Copyright © 2012, 2008, 2004 Lippincott Williams & Wilkins, a Wolters Kluwer\n",
            "business. 351 West Camden Street Two Commerce Square Baltimore, MD 21201 2001\n",
            "Market Street Philadelphia, PA 19103 Printed in China All rights reserved. This\n",
            "book is protected by copyright. No part of this book may be reproduced or\n",
            "transmitted in any form or by any means, including as photocopies or scanned-in\n",
            "or other electronic copies, or utilized by any information storage and retrieval\n",
            "system without written permission from the copyright owner, except for brief\n",
            "quotations embodied in critical articles and reviews. Materials appearing in\n",
            "this book prepared by individuals as part of their official duties as U.S.\n",
            "government employees are not covered by the above-mentioned copyright. To\n",
            "request permission, please con- tact Lippincott Williams & Wilkins at Two\n",
            "Commerce Square, 2001 Market Street, Philadelphia, PA 19103, via email at\n",
            "permissions@lww.com, or via website at lww.com (products and services). Library\n",
            "of Congress Cataloging-in-Publication Data Snell, Richard S. Clinical anatomy by\n",
            "regions / Richard S. Snell. – 9th ed. p. ; cm. Includes index. ISBN\n",
            "978-1-60913-446-4 1. Human anatomy. I. Title. [DNLM: 1. Anatomy, Regional. 2.\n",
            "Body Regions—anatomy & histology. QS 4] QM23.2.S55 2012 612—dc23 2011020326\n",
            "DISCLAIMER Care has been taken to confirm the accuracy of the information\n",
            "present and to describe generally accepted practices. However, the authors,\n",
            "editors, and publisher are not responsible for errors or omissions or for any\n",
            "consequences from application of the information in this book and make no\n",
            "warranty, expressed or implied, with respect to the currency, completeness, or\n",
            "accuracy of the con- tents of the publication. Application of this information\n",
            "in a particular situation remains the profes- sional responsibility of the\n",
            "practitioner; the clinical treatments described and recommended may not be\n",
            "considered absolute and universal recommendations. The authors, editors, and\n",
            "publisher have exerted every effort to ensure that drug selection and dosage set\n",
            "forth in this text are in accordance with the current recommendations and\n",
            "practice at the time of publication. However, in view of ongoing research,\n",
            "changes in government regulations, and the constant flow of information relating\n",
            "to drug therapy and drug reactions, the reader is urged to check the package\n",
            "insert for each drug for any change in indications and dosage and for added\n",
            "warnings and precautions. This is particularly important when the recommended\n",
            "agent is a new\n"
          ]
        }
      ]
    },
    {
      "cell_type": "code",
      "source": [
        "import os\n",
        "\n",
        "# List all .txt files in the context_data folder\n",
        "context_data_folder = \"context_data\"\n",
        "txt_files = [file for file in os.listdir(context_data_folder) if file.endswith(\".txt\")]\n",
        "\n",
        "# Combine the contents of the .txt files\n",
        "combined_text = \"\"\n",
        "for txt_file in txt_files:\n",
        "    txt_path = os.path.join(context_data_folder, txt_file)\n",
        "    with open(txt_path, \"r\") as file:\n",
        "        text = file.read()\n",
        "        combined_text += text\n",
        "\n",
        "# Save the combined text to the master.txt file\n",
        "output_file = os.path.join(context_data_folder, \"master.txt\")\n",
        "with open(output_file, \"w\") as file:\n",
        "    file.write(combined_text)\n",
        "\n",
        "# Display success message\n",
        "print(f\"Combined text saved to {output_file}\")\n"
      ],
      "metadata": {
        "colab": {
          "base_uri": "https://localhost:8080/"
        },
        "id": "FtH-hrBJSK9R",
        "outputId": "9a9735c6-1a2a-47d6-f1b7-f0c1ea93e397"
      },
      "execution_count": 8,
      "outputs": [
        {
          "output_type": "stream",
          "name": "stdout",
          "text": [
            "Combined text saved to context_data/master.txt\n"
          ]
        }
      ]
    },
    {
      "cell_type": "code",
      "source": [
        "import torch\n",
        "from transformers import GPT2LMHeadModel, GPT2Tokenizer\n",
        "from torch.utils.data import Dataset, DataLoader\n",
        "from torch.cuda.amp import autocast, GradScaler\n",
        "\n",
        "# Load the GPT2 tokenizer\n",
        "tokenizer = GPT2Tokenizer.from_pretrained(\"gpt2\")\n",
        "\n",
        "# Add a new padding token\n",
        "tokenizer.add_special_tokens({'pad_token': '[PAD]'})\n",
        "\n",
        "# Read the contents of the master.txt file\n",
        "file_path = \"context_data/master.txt\"\n",
        "with open(file_path, \"r\") as file:\n",
        "    text = file.read()\n",
        "\n",
        "# Tokenize and preprocess the data\n",
        "tokenized_text = tokenizer.encode(text, truncation=True, max_length=1024, padding=True, return_tensors=\"pt\")\n",
        "\n",
        "# Create a custom dataset\n",
        "class TextDataset(Dataset):\n",
        "    def __init__(self, tokenized_text):\n",
        "        self.tokenized_text = tokenized_text\n",
        "\n",
        "    def __len__(self):\n",
        "        return len(self.tokenized_text)\n",
        "\n",
        "    def __getitem__(self, idx):\n",
        "        return self.tokenized_text[idx]\n",
        "\n",
        "dataset = TextDataset(tokenized_text)\n",
        "\n",
        "# Create a DataLoader for batching the data\n",
        "batch_size = 4\n",
        "dataloader = DataLoader(dataset, batch_size=batch_size, shuffle=True)"
      ],
      "metadata": {
        "colab": {
          "base_uri": "https://localhost:8080/",
          "height": 197,
          "referenced_widgets": [
            "475b17471a414336a58b72fd0951b7f7",
            "5b646cc605084fac8f69b303bca19e66",
            "1a90d3cbda84478c91e2217b7290a6fe",
            "7e53d71602644b839075bdef6fde7372",
            "9f44d628aae242fb99e3849552a8d95c",
            "6eb9d49249ca4a36b9a80bccb88f7173",
            "0a1441e7fbbe47b2ae72cfc47d907c23",
            "307063f3346d42f18a807bad76d7caf3",
            "366e94fa835b43a1b54c3ddb6f82185e",
            "0ac49362e8084e4e80473654225383d2",
            "358ef1a8a4144909adbb207bd9523e95",
            "da1b875824254282b232b6d5b3ea303c",
            "73d43397e7194873a0bae8a104ac609f",
            "8b795f82cc104ffaa88b56212c3d55c7",
            "f949a60ccee241b1a670ffe62cb49d98",
            "7e63dfb4082a46a9be536d93dd9dd770",
            "d7a38329a31442778a54ecf57dcd45df",
            "a403474ecbda46f3b6c93c1e0e7c3792",
            "82683c1638854bbb9e5fd4bd33ddb208",
            "81ac20c4e9224546be89c839a83d316a",
            "753d481316da408ea4b01e89a0f01f72",
            "947f51283cd5457195d9af6f7b4ba5d9",
            "5c7ecff4367846fabfaec1bcd0080634",
            "b93abd448e8341349ab7c8573ea02031",
            "964152cfc4fa41f89af74a07a7bbe95e",
            "f6822fba24db42dcb1b0f07dd5572783",
            "9ad5fc5cb2714d80b5b9e503425e9c1c",
            "1c1ecb79cfb34945a8a76ff02ab66208",
            "e4351ba9c3fb4b50be882b71a5d6c5ba",
            "4d71480fcc2747fba0131a42f74159d4",
            "918fdc75136a4ab1927221efd3a64d65",
            "219c3280ef5548ec86220ee7c96e5077",
            "812459f8f4bd421a8254ef9f4cd1900c"
          ]
        },
        "id": "c0LxW1kezcAn",
        "outputId": "8820fd59-b877-49c3-cd1c-8fe7324f63b1"
      },
      "execution_count": 9,
      "outputs": [
        {
          "output_type": "display_data",
          "data": {
            "text/plain": [
              "Downloading (…)olve/main/vocab.json:   0%|          | 0.00/1.04M [00:00<?, ?B/s]"
            ],
            "application/vnd.jupyter.widget-view+json": {
              "version_major": 2,
              "version_minor": 0,
              "model_id": "475b17471a414336a58b72fd0951b7f7"
            }
          },
          "metadata": {}
        },
        {
          "output_type": "display_data",
          "data": {
            "text/plain": [
              "Downloading (…)olve/main/merges.txt:   0%|          | 0.00/456k [00:00<?, ?B/s]"
            ],
            "application/vnd.jupyter.widget-view+json": {
              "version_major": 2,
              "version_minor": 0,
              "model_id": "da1b875824254282b232b6d5b3ea303c"
            }
          },
          "metadata": {}
        },
        {
          "output_type": "display_data",
          "data": {
            "text/plain": [
              "Downloading (…)lve/main/config.json:   0%|          | 0.00/665 [00:00<?, ?B/s]"
            ],
            "application/vnd.jupyter.widget-view+json": {
              "version_major": 2,
              "version_minor": 0,
              "model_id": "5c7ecff4367846fabfaec1bcd0080634"
            }
          },
          "metadata": {}
        }
      ]
    },
    {
      "cell_type": "markdown",
      "source": [
        "Model Training"
      ],
      "metadata": {
        "id": "RNt2CgEqhgFp"
      }
    },
    {
      "cell_type": "code",
      "source": [
        "# Load the GPT2 model\n",
        "model = GPT2LMHeadModel.from_pretrained(\"gpt2\")\n",
        "\n",
        "# Fine-tune the model\n",
        "device = torch.device(\"cuda\" if torch.cuda.is_available() else \"cpu\")\n",
        "model.to(device)\n",
        "\n",
        "optimizer = torch.optim.AdamW(model.parameters(), lr=1e-5)\n",
        "criterion = torch.nn.CrossEntropyLoss(ignore_index=tokenizer.pad_token_id)\n",
        "\n",
        "for epoch in range(3):\n",
        "    for batch in dataloader:\n",
        "        inputs = batch.to(device)\n",
        "        labels = batch.to(device)\n",
        "\n",
        "        optimizer.zero_grad()\n",
        "\n",
        "        outputs = model(inputs, labels=labels)\n",
        "        loss = outputs.loss\n",
        "\n",
        "        loss.backward()\n",
        "        optimizer.step()\n",
        "\n",
        "# Save the trained model\n",
        "output_dir = \"trained_model\"\n",
        "model.save_pretrained(output_dir)\n",
        "tokenizer.save_pretrained(output_dir)"
      ],
      "metadata": {
        "colab": {
          "base_uri": "https://localhost:8080/"
        },
        "id": "ZOUxEMO3g1JX",
        "outputId": "a338ab73-d4a2-4cf1-bc97-1b743d941759"
      },
      "execution_count": 12,
      "outputs": [
        {
          "output_type": "execute_result",
          "data": {
            "text/plain": [
              "('trained_model/tokenizer_config.json',\n",
              " 'trained_model/special_tokens_map.json',\n",
              " 'trained_model/vocab.json',\n",
              " 'trained_model/merges.txt',\n",
              " 'trained_model/added_tokens.json')"
            ]
          },
          "metadata": {},
          "execution_count": 12
        }
      ]
    },
    {
      "cell_type": "markdown",
      "source": [
        "cutoff\n"
      ],
      "metadata": {
        "id": "zj6yjQNGT4zJ"
      }
    },
    {
      "cell_type": "markdown",
      "source": [
        "# CHAT"
      ],
      "metadata": {
        "id": "SKYeQ8vlRw_5"
      }
    },
    {
      "cell_type": "code",
      "source": [
        "import torch\n",
        "from transformers import GPT2LMHeadModel, GPT2Tokenizer\n",
        "\n",
        "# Load the trained model\n",
        "model_path = \"trained_model\"\n",
        "model = GPT2LMHeadModel.from_pretrained(model_path)\n",
        "tokenizer = GPT2Tokenizer.from_pretrained(model_path)\n",
        "\n",
        "# Set the model to evaluation mode\n",
        "model.eval()\n",
        "\n",
        "# Chat interface\n",
        "print(\"Welcome to the chat interface. Type 'exit' to end the conversation.\")\n",
        "while True:\n",
        "    # Get user input\n",
        "    user_input = input(\"User: \")\n",
        "\n",
        "    # Check if user wants to exit\n",
        "    if user_input.lower() == \"exit\":\n",
        "        print(\"Chat ended.\")\n",
        "        break\n",
        "\n",
        "    # Tokenize the user input\n",
        "    input_ids = tokenizer.encode(user_input, return_tensors=\"pt\")\n",
        "\n",
        "    # Generate a response\n",
        "    with torch.no_grad():\n",
        "        response = model.generate(input_ids.to(model.device))\n",
        "\n",
        "    # Decode and print the response\n",
        "    generated_text = tokenizer.decode(response[0], skip_special_tokens=True)\n",
        "    print(\"Response:\")\n",
        "    print(generated_text.strip())\n",
        "    print(\"=\" * 50)\n"
      ],
      "metadata": {
        "id": "VgmNstgxWTBY",
        "colab": {
          "base_uri": "https://localhost:8080/"
        },
        "outputId": "e553f5a1-0dd2-4593-9018-b4d077664919"
      },
      "execution_count": null,
      "outputs": [
        {
          "name": "stdout",
          "output_type": "stream",
          "text": [
            "Welcome to the chat interface. Type 'exit' to end the conversation.\n",
            "User: what is clinical anatomy\n"
          ]
        },
        {
          "output_type": "stream",
          "name": "stderr",
          "text": [
            "The attention mask and the pad token id were not set. As a consequence, you may observe unexpected behavior. Please pass your input's `attention_mask` to obtain reliable results.\n",
            "Setting `pad_token_id` to `eos_token_id`:50256 for open-end generation.\n",
            "/usr/local/lib/python3.10/dist-packages/transformers/generation/utils.py:1353: UserWarning: Using `max_length`'s default (20) to control the generation length. This behaviour is deprecated and will be removed from the config in v5 of Transformers -- we recommend using `max_new_tokens` to control the maximum length of the generation.\n",
            "  warnings.warn(\n"
          ]
        },
        {
          "name": "stdout",
          "output_type": "stream",
          "text": [
            "Response:\n",
            "what is clinical anatomy?\n",
            "\n",
            "The anatomy of the brain is a complex and complex subject. The\n",
            "==================================================\n",
            "User: again\n"
          ]
        },
        {
          "output_type": "stream",
          "name": "stderr",
          "text": [
            "The attention mask and the pad token id were not set. As a consequence, you may observe unexpected behavior. Please pass your input's `attention_mask` to obtain reliable results.\n",
            "Setting `pad_token_id` to `eos_token_id`:50256 for open-end generation.\n"
          ]
        },
        {
          "output_type": "stream",
          "name": "stdout",
          "text": [
            "Response:\n",
            "again, I'm not sure if I'm going to be able to do it. I'm not\n",
            "==================================================\n"
          ]
        }
      ]
    }
  ]
}